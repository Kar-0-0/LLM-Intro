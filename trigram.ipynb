{
 "cells": [
  {
   "cell_type": "code",
   "execution_count": 2,
   "metadata": {},
   "outputs": [],
   "source": [
    "words = open('names.txt', 'r').read().splitlines()"
   ]
  },
  {
   "cell_type": "code",
   "execution_count": 3,
   "metadata": {},
   "outputs": [
    {
     "data": {
      "text/plain": [
       "['emma', 'olivia', 'ava', 'isabella', 'sophia']"
      ]
     },
     "execution_count": 3,
     "metadata": {},
     "output_type": "execute_result"
    }
   ],
   "source": [
    "words[:5]"
   ]
  },
  {
   "cell_type": "code",
   "execution_count": 4,
   "metadata": {},
   "outputs": [
    {
     "data": {
      "text/plain": [
       "['a',\n",
       " 'b',\n",
       " 'c',\n",
       " 'd',\n",
       " 'e',\n",
       " 'f',\n",
       " 'g',\n",
       " 'h',\n",
       " 'i',\n",
       " 'j',\n",
       " 'k',\n",
       " 'l',\n",
       " 'm',\n",
       " 'n',\n",
       " 'o',\n",
       " 'p',\n",
       " 'q',\n",
       " 'r',\n",
       " 's',\n",
       " 't',\n",
       " 'u',\n",
       " 'v',\n",
       " 'w',\n",
       " 'x',\n",
       " 'y',\n",
       " 'z']"
      ]
     },
     "execution_count": 4,
     "metadata": {},
     "output_type": "execute_result"
    }
   ],
   "source": [
    "chars = sorted(list(set(''.join(words))))\n",
    "chars"
   ]
  },
  {
   "cell_type": "code",
   "execution_count": 5,
   "metadata": {},
   "outputs": [
    {
     "data": {
      "text/plain": [
       "{'a': 1,\n",
       " 'b': 2,\n",
       " 'c': 3,\n",
       " 'd': 4,\n",
       " 'e': 5,\n",
       " 'f': 6,\n",
       " 'g': 7,\n",
       " 'h': 8,\n",
       " 'i': 9,\n",
       " 'j': 10,\n",
       " 'k': 11,\n",
       " 'l': 12,\n",
       " 'm': 13,\n",
       " 'n': 14,\n",
       " 'o': 15,\n",
       " 'p': 16,\n",
       " 'q': 17,\n",
       " 'r': 18,\n",
       " 's': 19,\n",
       " 't': 20,\n",
       " 'u': 21,\n",
       " 'v': 22,\n",
       " 'w': 23,\n",
       " 'x': 24,\n",
       " 'y': 25,\n",
       " 'z': 26,\n",
       " '.': 0}"
      ]
     },
     "execution_count": 5,
     "metadata": {},
     "output_type": "execute_result"
    }
   ],
   "source": [
    "stoi = {s:i+1 for i, s in enumerate(chars)}\n",
    "stoi['.'] = 0\n",
    "stoi"
   ]
  },
  {
   "cell_type": "code",
   "execution_count": 6,
   "metadata": {},
   "outputs": [
    {
     "data": {
      "text/plain": [
       "{1: 'a',\n",
       " 2: 'b',\n",
       " 3: 'c',\n",
       " 4: 'd',\n",
       " 5: 'e',\n",
       " 6: 'f',\n",
       " 7: 'g',\n",
       " 8: 'h',\n",
       " 9: 'i',\n",
       " 10: 'j',\n",
       " 11: 'k',\n",
       " 12: 'l',\n",
       " 13: 'm',\n",
       " 14: 'n',\n",
       " 15: 'o',\n",
       " 16: 'p',\n",
       " 17: 'q',\n",
       " 18: 'r',\n",
       " 19: 's',\n",
       " 20: 't',\n",
       " 21: 'u',\n",
       " 22: 'v',\n",
       " 23: 'w',\n",
       " 24: 'x',\n",
       " 25: 'y',\n",
       " 26: 'z',\n",
       " 0: '.'}"
      ]
     },
     "execution_count": 6,
     "metadata": {},
     "output_type": "execute_result"
    }
   ],
   "source": [
    "itos = {i:s for s, i in stoi.items()}\n",
    "itos"
   ]
  },
  {
   "cell_type": "code",
   "execution_count": 7,
   "metadata": {},
   "outputs": [],
   "source": [
    "import torch \n",
    "\n",
    "N = torch.zeros(27, 27, 27)"
   ]
  },
  {
   "cell_type": "code",
   "execution_count": 8,
   "metadata": {},
   "outputs": [
    {
     "name": "stdout",
     "output_type": "stream",
     "text": [
      ". . e\n",
      ". e m\n",
      "e m m\n",
      "m m a\n",
      "m a .\n",
      "a . .\n",
      ". . o\n",
      ". o l\n",
      "o l i\n",
      "l i v\n",
      "i v i\n",
      "v i a\n",
      "i a .\n",
      "a . .\n",
      ". . a\n",
      ". a v\n",
      "a v a\n",
      "v a .\n",
      "a . .\n"
     ]
    }
   ],
   "source": [
    "for w in words[:3]:\n",
    "    w = '.' + '.' + w + '.' + '.'\n",
    "    for ch1, ch2, ch3 in zip(w, w[1:], w[2:]):\n",
    "        print(ch1, ch2, ch3)\n"
   ]
  },
  {
   "cell_type": "code",
   "execution_count": 9,
   "metadata": {},
   "outputs": [
    {
     "data": {
      "text/plain": [
       "tensor([[[0.0000e+00, 4.4100e+03, 1.3060e+03,  ..., 1.3400e+02,\n",
       "          5.3500e+02, 9.2900e+02],\n",
       "         [0.0000e+00, 2.0700e+02, 1.9000e+02,  ..., 2.7000e+01,\n",
       "          1.7300e+02, 1.5200e+02],\n",
       "         [0.0000e+00, 1.6900e+02, 0.0000e+00,  ..., 0.0000e+00,\n",
       "          4.0000e+00, 0.0000e+00],\n",
       "         ...,\n",
       "         [0.0000e+00, 5.7000e+01, 0.0000e+00,  ..., 1.0000e+00,\n",
       "          1.7000e+01, 1.1000e+01],\n",
       "         [0.0000e+00, 2.4600e+02, 0.0000e+00,  ..., 0.0000e+00,\n",
       "          0.0000e+00, 2.0000e+00],\n",
       "         [0.0000e+00, 4.5600e+02, 0.0000e+00,  ..., 0.0000e+00,\n",
       "          9.1000e+01, 1.0000e+00]],\n",
       "\n",
       "        [[6.6400e+03, 0.0000e+00, 0.0000e+00,  ..., 0.0000e+00,\n",
       "          0.0000e+00, 0.0000e+00],\n",
       "         [4.0000e+01, 0.0000e+00, 5.0000e+00,  ..., 0.0000e+00,\n",
       "          2.0000e+01, 1.1000e+01],\n",
       "         [3.6000e+01, 2.8000e+01, 2.0000e+01,  ..., 0.0000e+00,\n",
       "          1.2000e+01, 0.0000e+00],\n",
       "         ...,\n",
       "         [1.1000e+01, 5.0000e+00, 0.0000e+00,  ..., 1.7000e+01,\n",
       "          6.0000e+00, 3.0000e+00],\n",
       "         [1.6300e+02, 3.8900e+02, 1.3000e+01,  ..., 0.0000e+00,\n",
       "          1.6000e+01, 4.0000e+01],\n",
       "         [3.8000e+01, 1.2300e+02, 0.0000e+00,  ..., 0.0000e+00,\n",
       "          1.2000e+01, 2.2000e+01]],\n",
       "\n",
       "        [[1.1400e+02, 0.0000e+00, 0.0000e+00,  ..., 0.0000e+00,\n",
       "          0.0000e+00, 0.0000e+00],\n",
       "         [4.6000e+01, 5.0000e+00, 5.0000e+00,  ..., 4.0000e+00,\n",
       "          3.1000e+01, 4.0000e+00],\n",
       "         [1.0000e+00, 8.0000e+00, 0.0000e+00,  ..., 0.0000e+00,\n",
       "          9.0000e+00, 0.0000e+00],\n",
       "         ...,\n",
       "         [0.0000e+00, 0.0000e+00, 0.0000e+00,  ..., 0.0000e+00,\n",
       "          0.0000e+00, 0.0000e+00],\n",
       "         [5.5000e+01, 4.0000e+00, 1.0000e+00,  ..., 0.0000e+00,\n",
       "          0.0000e+00, 0.0000e+00],\n",
       "         [0.0000e+00, 0.0000e+00, 0.0000e+00,  ..., 0.0000e+00,\n",
       "          0.0000e+00, 0.0000e+00]],\n",
       "\n",
       "        ...,\n",
       "\n",
       "        [[1.6400e+02, 0.0000e+00, 0.0000e+00,  ..., 0.0000e+00,\n",
       "          0.0000e+00, 0.0000e+00],\n",
       "         [1.0000e+01, 0.0000e+00, 2.0000e+00,  ..., 0.0000e+00,\n",
       "          1.0000e+01, 0.0000e+00],\n",
       "         [0.0000e+00, 0.0000e+00, 0.0000e+00,  ..., 0.0000e+00,\n",
       "          1.0000e+00, 0.0000e+00],\n",
       "         ...,\n",
       "         [1.8000e+01, 3.0000e+00, 0.0000e+00,  ..., 0.0000e+00,\n",
       "          1.0000e+00, 0.0000e+00],\n",
       "         [5.0000e+00, 4.0000e+00, 0.0000e+00,  ..., 0.0000e+00,\n",
       "          0.0000e+00, 0.0000e+00],\n",
       "         [0.0000e+00, 1.6000e+01, 0.0000e+00,  ..., 0.0000e+00,\n",
       "          0.0000e+00, 0.0000e+00]],\n",
       "\n",
       "        [[2.0070e+03, 0.0000e+00, 0.0000e+00,  ..., 0.0000e+00,\n",
       "          0.0000e+00, 0.0000e+00],\n",
       "         [7.1600e+02, 4.6000e+01, 1.0000e+01,  ..., 3.0000e+00,\n",
       "          6.0000e+00, 2.1000e+01],\n",
       "         [2.0000e+00, 2.0000e+00, 0.0000e+00,  ..., 0.0000e+00,\n",
       "          0.0000e+00, 0.0000e+00],\n",
       "         ...,\n",
       "         [2.3000e+01, 1.0000e+00, 0.0000e+00,  ..., 1.0000e+00,\n",
       "          0.0000e+00, 0.0000e+00],\n",
       "         [1.0000e+00, 1.8000e+01, 0.0000e+00,  ..., 0.0000e+00,\n",
       "          0.0000e+00, 0.0000e+00],\n",
       "         [2.0000e+00, 2.7000e+01, 0.0000e+00,  ..., 1.0000e+00,\n",
       "          0.0000e+00, 0.0000e+00]],\n",
       "\n",
       "        [[1.6000e+02, 0.0000e+00, 0.0000e+00,  ..., 0.0000e+00,\n",
       "          0.0000e+00, 0.0000e+00],\n",
       "         [9.8000e+01, 1.4000e+01, 4.0000e+01,  ..., 3.0000e+00,\n",
       "          9.7000e+01, 3.0000e+00],\n",
       "         [0.0000e+00, 0.0000e+00, 0.0000e+00,  ..., 0.0000e+00,\n",
       "          0.0000e+00, 0.0000e+00],\n",
       "         ...,\n",
       "         [1.0000e+00, 0.0000e+00, 0.0000e+00,  ..., 0.0000e+00,\n",
       "          0.0000e+00, 0.0000e+00],\n",
       "         [3.4000e+01, 2.7000e+01, 0.0000e+00,  ..., 0.0000e+00,\n",
       "          0.0000e+00, 1.0000e+00],\n",
       "         [4.0000e+00, 1.3000e+01, 0.0000e+00,  ..., 0.0000e+00,\n",
       "          7.0000e+00, 0.0000e+00]]])"
      ]
     },
     "execution_count": 9,
     "metadata": {},
     "output_type": "execute_result"
    }
   ],
   "source": [
    "for w in words:\n",
    "    w = '.' + '.' + w + '.' + '.'\n",
    "    for ch1, ch2, ch3 in zip(w, w[1:], w[2:]):\n",
    "        ix1, ix2, ix3 = stoi[ch1], stoi[ch2], stoi[ch3]\n",
    "        N[ix1, ix2, ix3] += 1\n",
    "N"
   ]
  },
  {
   "cell_type": "code",
   "execution_count": 10,
   "metadata": {},
   "outputs": [
    {
     "data": {
      "text/plain": [
       "torch.Size([27, 27, 27])"
      ]
     },
     "execution_count": 10,
     "metadata": {},
     "output_type": "execute_result"
    }
   ],
   "source": [
    "# 27, 27, 27\n",
    "# 27, 27,  1\n",
    "\n",
    "P = (N+1).float()\n",
    "P = P / P.sum(2, keepdim=True) \n",
    "P.shape"
   ]
  },
  {
   "cell_type": "code",
   "execution_count": 13,
   "metadata": {},
   "outputs": [
    {
     "data": {
      "text/plain": [
       "['xakaihilayah.',\n",
       " 'vcmne.',\n",
       " 'jannia.',\n",
       " 'scah.',\n",
       " 'trie.',\n",
       " 'recco.',\n",
       " 'caria.',\n",
       " 'keari.',\n",
       " 'lammyudondadry.',\n",
       " 'jana.',\n",
       " 'toshana.',\n",
       " 'bow.',\n",
       " 'zyana.',\n",
       " 'na.',\n",
       " 'daylechanichelwandy.',\n",
       " 'shel.',\n",
       " 'da.',\n",
       " 'miyer.',\n",
       " 'ivario.',\n",
       " 'yune.',\n",
       " 'jarck.',\n",
       " 'si.',\n",
       " 'dmilyazured.',\n",
       " 'ra.',\n",
       " 'meri.',\n",
       " 'zo.',\n",
       " 'gria.',\n",
       " 'suty.',\n",
       " 'au.',\n",
       " 'dellurshanroelameendonn.',\n",
       " 'an.',\n",
       " 'fividell.',\n",
       " 'adie.',\n",
       " 'sarzia.',\n",
       " 'tzing.',\n",
       " 'akiuubrier.',\n",
       " 'if.',\n",
       " 'mak.',\n",
       " 'na.',\n",
       " 'el.',\n",
       " 'anne.',\n",
       " 'malen.',\n",
       " 'lee.',\n",
       " 'bevikaora.',\n",
       " 'ante.',\n",
       " 'luwadenoon.',\n",
       " 'alla.',\n",
       " 'mah.',\n",
       " 'ailxntoni.',\n",
       " 'lijai.']"
      ]
     },
     "execution_count": 13,
     "metadata": {},
     "output_type": "execute_result"
    }
   ],
   "source": [
    "res = \"\"\n",
    "ix = (0, 0)\n",
    "names = []\n",
    "\n",
    "for i in range(50):\n",
    "    while True:\n",
    "        ix = torch.multinomial(P[ix], num_samples=1, replacement=True)\n",
    "        curr_let = itos[ix.item()]\n",
    "        res += curr_let\n",
    "\n",
    "        if curr_let == '.':\n",
    "            break\n",
    "\n",
    "        if len(res) >= 2:\n",
    "            ix = (stoi[res[len(res) - 2]], stoi[res[len(res)-1]])\n",
    "        else:\n",
    "            ix = (0, stoi[res])\n",
    "    names.append(res)\n",
    "    res = \"\"\n",
    "    ix = (0, 0)\n",
    "names\n",
    "\n",
    "\n"
   ]
  },
  {
   "cell_type": "code",
   "execution_count": 12,
   "metadata": {},
   "outputs": [
    {
     "name": "stdout",
     "output_type": "stream",
     "text": [
      "Loss:  1.9420\n"
     ]
    }
   ],
   "source": [
    "log_likelihood = 0\n",
    "n = 0\n",
    "for w in words:\n",
    "    w = '.' + '.' + w + '.' + '.'\n",
    "    for ch1, ch2, ch3 in zip(w, w[1:], w[2:]):\n",
    "        ix1, ix2, ix3 = stoi[ch1], stoi[ch2], stoi[ch3]\n",
    "        prob = P[ix1, ix2, ix3]\n",
    "        log_prob = torch.log(prob)\n",
    "        log_likelihood += log_prob\n",
    "        n += 1\n",
    "\n",
    "nll = -log_likelihood\n",
    "nll /= n\n",
    "print(f\"Loss: {nll.item(): .4f}\") "
   ]
  },
  {
   "cell_type": "code",
   "execution_count": null,
   "metadata": {},
   "outputs": [],
   "source": []
  }
 ],
 "metadata": {
  "kernelspec": {
   "display_name": "Python 3",
   "language": "python",
   "name": "python3"
  },
  "language_info": {
   "codemirror_mode": {
    "name": "ipython",
    "version": 3
   },
   "file_extension": ".py",
   "mimetype": "text/x-python",
   "name": "python",
   "nbconvert_exporter": "python",
   "pygments_lexer": "ipython3",
   "version": "3.11.0"
  }
 },
 "nbformat": 4,
 "nbformat_minor": 2
}
